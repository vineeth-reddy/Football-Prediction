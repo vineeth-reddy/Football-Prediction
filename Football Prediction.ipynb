{
 "cells": [
  {
   "cell_type": "code",
   "execution_count": 1,
   "id": "ceb9218f",
   "metadata": {},
   "outputs": [],
   "source": [
    "import datetime\n",
    "import pandas as pd\n",
    "import matplotlib.pyplot as plt\n",
    "%matplotlib inline\n",
    "import seaborn as sns\n",
    "import json"
   ]
  },
  {
   "cell_type": "markdown",
   "id": "1535221b",
   "metadata": {},
   "source": [
    "### Data Collection"
   ]
  },
  {
   "cell_type": "code",
   "execution_count": 2,
   "id": "85dcd404",
   "metadata": {},
   "outputs": [],
   "source": [
    "import requests\n",
    "\n",
    "url = \"https://soccer-football-info.p.rapidapi.com/matches/day/basic/\"\n",
    "\n",
    "querystring = {\"d\":\"20220615\",\"p\":\"1\",\"l\":\"en_US\"}\n",
    "\n",
    "headers = {\n",
    "\t\"X-RapidAPI-Key\": \"2a72581d9dmsh7b7f5151a742246p10e04fjsn593e4f302290\",\n",
    "\t\"X-RapidAPI-Host\": \"soccer-football-info.p.rapidapi.com\"\n",
    "}\n",
    "\n",
    "response = requests.request(\"GET\", url, headers=headers, params=querystring)\n",
    "\n"
   ]
  },
  {
   "cell_type": "code",
   "execution_count": 3,
   "id": "17951156",
   "metadata": {},
   "outputs": [],
   "source": [
    "res= response.json()"
   ]
  },
  {
   "cell_type": "code",
   "execution_count": 4,
   "id": "5c9bc8f8",
   "metadata": {},
   "outputs": [
    {
     "data": {
      "text/plain": [
       "requests.models.Response"
      ]
     },
     "execution_count": 4,
     "metadata": {},
     "output_type": "execute_result"
    }
   ],
   "source": [
    "type(response)"
   ]
  },
  {
   "cell_type": "code",
   "execution_count": 5,
   "id": "342c1707",
   "metadata": {},
   "outputs": [
    {
     "data": {
      "text/plain": [
       "dict"
      ]
     },
     "execution_count": 5,
     "metadata": {},
     "output_type": "execute_result"
    }
   ],
   "source": [
    "type(res)"
   ]
  },
  {
   "cell_type": "code",
   "execution_count": 6,
   "id": "e3195a7c",
   "metadata": {},
   "outputs": [
    {
     "data": {
      "text/plain": [
       "{'id': '656c49d15deaa8e3',\n",
       " 'date': '2022-06-15 00:00:00',\n",
       " 'status': 'POSTPONE',\n",
       " 'timer': '00:00',\n",
       " 'championship': {'id': 'b750e9d4bd8ace62',\n",
       "  'name': 'Ecuador Primera B',\n",
       "  's_name': 'Serie B 2022'},\n",
       " 'teamA': {'id': 'bd7fefd2ccf6ec8b',\n",
       "  'name': 'El Nacional',\n",
       "  'score': {'f': None, '1h': None, '2h': None, 'o': None, 'p': None},\n",
       "  'manager': None},\n",
       " 'teamB': {'id': 'e9ea81382d74c42d',\n",
       "  'name': 'Atletico Santo Domingo',\n",
       "  'score': {'f': None, '1h': None, '2h': None, 'o': None, 'p': None},\n",
       "  'manager': None},\n",
       " 'referee': None,\n",
       " 'stadium': {'id': '97b49b620c21c60c', 'name': 'Olimpico Atahualpa'}}"
      ]
     },
     "execution_count": 6,
     "metadata": {},
     "output_type": "execute_result"
    }
   ],
   "source": [
    "res['result'][0]"
   ]
  },
  {
   "cell_type": "code",
   "execution_count": 7,
   "id": "314ac87b",
   "metadata": {},
   "outputs": [
    {
     "data": {
      "text/plain": [
       "{'possession': '38',\n",
       " 'attacks': {'n': '99', 'd': '42', 'o_s': None},\n",
       " 'shoots': {'t': '7', 'off': '5', 'on': '2', 'g_a': None},\n",
       " 'penalties': '0',\n",
       " 'corners': {'t': '4', 'f': '4', 'h': '2'},\n",
       " 'fouls': {'t': None, 'y_c': '3', 'y_t_r_c': '0', 'r_c': '0'},\n",
       " 'substitutions': '1',\n",
       " 'throwins': None,\n",
       " 'injuries': '3',\n",
       " 'dominance_avg_2_5': None}"
      ]
     },
     "execution_count": 7,
     "metadata": {},
     "output_type": "execute_result"
    }
   ],
   "source": [
    "res['result'][1]['teamA']['stats']"
   ]
  },
  {
   "cell_type": "code",
   "execution_count": 8,
   "id": "d822b649",
   "metadata": {},
   "outputs": [],
   "source": [
    "data=pd.DataFrame()"
   ]
  },
  {
   "cell_type": "code",
   "execution_count": 9,
   "id": "84fb5d04",
   "metadata": {},
   "outputs": [],
   "source": [
    "start_date= datetime.datetime.strptime('2022-06-15',\"%Y-%m-%d\")\n",
    "\n",
    "k=150\n",
    "\n",
    "date_range= pd.date_range(start_date,periods=k)"
   ]
  },
  {
   "cell_type": "code",
   "execution_count": 10,
   "id": "1716b747",
   "metadata": {},
   "outputs": [],
   "source": [
    "date=[]\n",
    "tournament=[]\n",
    "team1=[]\n",
    "team1_goals=[]\n",
    "team1_shoots=[]\n",
    "team1_penalties=[]\n",
    "team1_corners=[]\n",
    "team1_injuries=[]\n",
    "\n",
    "team2=[]\n",
    "team2_goals=[]\n",
    "team2_shoots=[]\n",
    "team2_penalties=[]\n",
    "team2_corners=[]\n",
    "team2_injuries=[]\n",
    "\n",
    "for d in date_range:\n",
    "    url = \"https://soccer-football-info.p.rapidapi.com/matches/day/basic/\"\n",
    "    querystring = {\"d\":d.strftime('%Y%m%d'),\"p\":\"1\",\"l\":\"en_US\"}\n",
    "\n",
    "    headers = {\n",
    "        \"X-RapidAPI-Key\": \"2a72581d9dmsh7b7f5151a742246p10e04fjsn593e4f302290\",\n",
    "        \"X-RapidAPI-Host\": \"soccer-football-info.p.rapidapi.com\"\n",
    "    }\n",
    "\n",
    "    response = requests.request(\"GET\", url, headers=headers, params=querystring)\n",
    "    res= response.json()\n",
    "\n",
    "    for item in res['result']:\n",
    "        if item['status']=='ENDED':\n",
    "            date.append(item['date'])\n",
    "            tournament.append(item['championship']['name'])\n",
    "            team1.append(item['teamA']['name'])\n",
    "            team1_goals.append(item['teamA']['score']['f'])\n",
    "            team1_shoots.append(item['teamA']['stats']['shoots']['t'])\n",
    "            team1_penalties.append(item['teamA']['stats']['penalties'])\n",
    "\n",
    "            team2.append(item['teamB']['name'])\n",
    "            team2_goals.append(item['teamB']['score']['f'])\n",
    "            team2_shoots.append(item['teamB']['stats']['shoots']['t'])\n",
    "            team2_penalties.append(item['teamB']['stats']['penalties'])\n",
    "            \n",
    "    \n"
   ]
  },
  {
   "cell_type": "code",
   "execution_count": 11,
   "id": "dedf5ed6",
   "metadata": {},
   "outputs": [],
   "source": [
    "columns=['date','tournament','home_team','home_team_goals','home_team_shoots','home_team_penalties','away_team','away_team_goals','away_team_shoots','away_team_penalties']\n",
    "values= [date,tournament,team1,team1_goals,team1_shoots,team1_penalties,team2,team2_goals,team2_shoots,team2_penalties]\n",
    "for col,val in zip(columns,values):\n",
    "    data[col]=val"
   ]
  },
  {
   "cell_type": "code",
   "execution_count": 12,
   "id": "1f149338",
   "metadata": {},
   "outputs": [
    {
     "data": {
      "text/html": [
       "<div>\n",
       "<style scoped>\n",
       "    .dataframe tbody tr th:only-of-type {\n",
       "        vertical-align: middle;\n",
       "    }\n",
       "\n",
       "    .dataframe tbody tr th {\n",
       "        vertical-align: top;\n",
       "    }\n",
       "\n",
       "    .dataframe thead th {\n",
       "        text-align: right;\n",
       "    }\n",
       "</style>\n",
       "<table border=\"1\" class=\"dataframe\">\n",
       "  <thead>\n",
       "    <tr style=\"text-align: right;\">\n",
       "      <th></th>\n",
       "      <th>date</th>\n",
       "      <th>tournament</th>\n",
       "      <th>home_team</th>\n",
       "      <th>home_team_goals</th>\n",
       "      <th>home_team_shoots</th>\n",
       "      <th>home_team_penalties</th>\n",
       "      <th>away_team</th>\n",
       "      <th>away_team_goals</th>\n",
       "      <th>away_team_shoots</th>\n",
       "      <th>away_team_penalties</th>\n",
       "    </tr>\n",
       "  </thead>\n",
       "  <tbody>\n",
       "    <tr>\n",
       "      <th>0</th>\n",
       "      <td>2022-06-15 00:00:00</td>\n",
       "      <td>CONCACAF Nations League</td>\n",
       "      <td>Jamaica</td>\n",
       "      <td>1</td>\n",
       "      <td>7</td>\n",
       "      <td>0</td>\n",
       "      <td>Mexico</td>\n",
       "      <td>1</td>\n",
       "      <td>20</td>\n",
       "      <td>0</td>\n",
       "    </tr>\n",
       "    <tr>\n",
       "      <th>1</th>\n",
       "      <td>2022-06-15 00:10:00</td>\n",
       "      <td>Argentina Nacional B</td>\n",
       "      <td>Ferro Carril Oeste</td>\n",
       "      <td>1</td>\n",
       "      <td>9</td>\n",
       "      <td>0</td>\n",
       "      <td>CA Atlanta</td>\n",
       "      <td>0</td>\n",
       "      <td>15</td>\n",
       "      <td>0</td>\n",
       "    </tr>\n",
       "    <tr>\n",
       "      <th>2</th>\n",
       "      <td>2022-06-15 00:30:00</td>\n",
       "      <td>Brazil Serie A</td>\n",
       "      <td>EC Juventude</td>\n",
       "      <td>1</td>\n",
       "      <td>10</td>\n",
       "      <td>0</td>\n",
       "      <td>Santos</td>\n",
       "      <td>2</td>\n",
       "      <td>18</td>\n",
       "      <td>0</td>\n",
       "    </tr>\n",
       "    <tr>\n",
       "      <th>3</th>\n",
       "      <td>2022-06-15 00:30:00</td>\n",
       "      <td>USA NPSL</td>\n",
       "      <td>Coyotes FC</td>\n",
       "      <td>0</td>\n",
       "      <td>13</td>\n",
       "      <td>0</td>\n",
       "      <td>Fort Worth Vaqueros FC</td>\n",
       "      <td>3</td>\n",
       "      <td>8</td>\n",
       "      <td>1</td>\n",
       "    </tr>\n",
       "    <tr>\n",
       "      <th>4</th>\n",
       "      <td>2022-06-15 00:30:00</td>\n",
       "      <td>Argentina Liga Profesional</td>\n",
       "      <td>Estudiantes LP</td>\n",
       "      <td>2</td>\n",
       "      <td>12</td>\n",
       "      <td>1</td>\n",
       "      <td>Sarmiento</td>\n",
       "      <td>1</td>\n",
       "      <td>11</td>\n",
       "      <td>0</td>\n",
       "    </tr>\n",
       "  </tbody>\n",
       "</table>\n",
       "</div>"
      ],
      "text/plain": [
       "                  date                  tournament           home_team  \\\n",
       "0  2022-06-15 00:00:00     CONCACAF Nations League             Jamaica   \n",
       "1  2022-06-15 00:10:00        Argentina Nacional B  Ferro Carril Oeste   \n",
       "2  2022-06-15 00:30:00              Brazil Serie A        EC Juventude   \n",
       "3  2022-06-15 00:30:00                    USA NPSL          Coyotes FC   \n",
       "4  2022-06-15 00:30:00  Argentina Liga Profesional      Estudiantes LP   \n",
       "\n",
       "  home_team_goals home_team_shoots home_team_penalties  \\\n",
       "0               1                7                   0   \n",
       "1               1                9                   0   \n",
       "2               1               10                   0   \n",
       "3               0               13                   0   \n",
       "4               2               12                   1   \n",
       "\n",
       "                away_team away_team_goals away_team_shoots away_team_penalties  \n",
       "0                  Mexico               1               20                   0  \n",
       "1              CA Atlanta               0               15                   0  \n",
       "2                  Santos               2               18                   0  \n",
       "3  Fort Worth Vaqueros FC               3                8                   1  \n",
       "4               Sarmiento               1               11                   0  "
      ]
     },
     "execution_count": 12,
     "metadata": {},
     "output_type": "execute_result"
    }
   ],
   "source": [
    "data.head()"
   ]
  },
  {
   "cell_type": "code",
   "execution_count": 13,
   "id": "92134d60",
   "metadata": {},
   "outputs": [],
   "source": [
    "data.to_csv('api_cleaned.csv')"
   ]
  },
  {
   "cell_type": "code",
   "execution_count": 14,
   "id": "4ce32924",
   "metadata": {},
   "outputs": [],
   "source": [
    "df=pd.read_csv('international_matches.csv')"
   ]
  },
  {
   "cell_type": "code",
   "execution_count": 15,
   "id": "490265b0",
   "metadata": {},
   "outputs": [
    {
     "data": {
      "text/html": [
       "<div>\n",
       "<style scoped>\n",
       "    .dataframe tbody tr th:only-of-type {\n",
       "        vertical-align: middle;\n",
       "    }\n",
       "\n",
       "    .dataframe tbody tr th {\n",
       "        vertical-align: top;\n",
       "    }\n",
       "\n",
       "    .dataframe thead th {\n",
       "        text-align: right;\n",
       "    }\n",
       "</style>\n",
       "<table border=\"1\" class=\"dataframe\">\n",
       "  <thead>\n",
       "    <tr style=\"text-align: right;\">\n",
       "      <th></th>\n",
       "      <th>date</th>\n",
       "      <th>home_team</th>\n",
       "      <th>away_team</th>\n",
       "      <th>home_team_continent</th>\n",
       "      <th>away_team_continent</th>\n",
       "      <th>home_team_fifa_rank</th>\n",
       "      <th>away_team_fifa_rank</th>\n",
       "      <th>home_team_total_fifa_points</th>\n",
       "      <th>away_team_total_fifa_points</th>\n",
       "      <th>home_team_score</th>\n",
       "      <th>...</th>\n",
       "      <th>shoot_out</th>\n",
       "      <th>home_team_result</th>\n",
       "      <th>home_team_goalkeeper_score</th>\n",
       "      <th>away_team_goalkeeper_score</th>\n",
       "      <th>home_team_mean_defense_score</th>\n",
       "      <th>home_team_mean_offense_score</th>\n",
       "      <th>home_team_mean_midfield_score</th>\n",
       "      <th>away_team_mean_defense_score</th>\n",
       "      <th>away_team_mean_offense_score</th>\n",
       "      <th>away_team_mean_midfield_score</th>\n",
       "    </tr>\n",
       "  </thead>\n",
       "  <tbody>\n",
       "    <tr>\n",
       "      <th>0</th>\n",
       "      <td>1993-08-08</td>\n",
       "      <td>Bolivia</td>\n",
       "      <td>Uruguay</td>\n",
       "      <td>South America</td>\n",
       "      <td>South America</td>\n",
       "      <td>59</td>\n",
       "      <td>22</td>\n",
       "      <td>0</td>\n",
       "      <td>0</td>\n",
       "      <td>3</td>\n",
       "      <td>...</td>\n",
       "      <td>No</td>\n",
       "      <td>Win</td>\n",
       "      <td>NaN</td>\n",
       "      <td>NaN</td>\n",
       "      <td>NaN</td>\n",
       "      <td>NaN</td>\n",
       "      <td>NaN</td>\n",
       "      <td>NaN</td>\n",
       "      <td>NaN</td>\n",
       "      <td>NaN</td>\n",
       "    </tr>\n",
       "    <tr>\n",
       "      <th>1</th>\n",
       "      <td>1993-08-08</td>\n",
       "      <td>Brazil</td>\n",
       "      <td>Mexico</td>\n",
       "      <td>South America</td>\n",
       "      <td>North America</td>\n",
       "      <td>8</td>\n",
       "      <td>14</td>\n",
       "      <td>0</td>\n",
       "      <td>0</td>\n",
       "      <td>1</td>\n",
       "      <td>...</td>\n",
       "      <td>No</td>\n",
       "      <td>Draw</td>\n",
       "      <td>NaN</td>\n",
       "      <td>NaN</td>\n",
       "      <td>NaN</td>\n",
       "      <td>NaN</td>\n",
       "      <td>NaN</td>\n",
       "      <td>NaN</td>\n",
       "      <td>NaN</td>\n",
       "      <td>NaN</td>\n",
       "    </tr>\n",
       "    <tr>\n",
       "      <th>2</th>\n",
       "      <td>1993-08-08</td>\n",
       "      <td>Ecuador</td>\n",
       "      <td>Venezuela</td>\n",
       "      <td>South America</td>\n",
       "      <td>South America</td>\n",
       "      <td>35</td>\n",
       "      <td>94</td>\n",
       "      <td>0</td>\n",
       "      <td>0</td>\n",
       "      <td>5</td>\n",
       "      <td>...</td>\n",
       "      <td>No</td>\n",
       "      <td>Win</td>\n",
       "      <td>NaN</td>\n",
       "      <td>NaN</td>\n",
       "      <td>NaN</td>\n",
       "      <td>NaN</td>\n",
       "      <td>NaN</td>\n",
       "      <td>NaN</td>\n",
       "      <td>NaN</td>\n",
       "      <td>NaN</td>\n",
       "    </tr>\n",
       "    <tr>\n",
       "      <th>3</th>\n",
       "      <td>1993-08-08</td>\n",
       "      <td>Guinea</td>\n",
       "      <td>Sierra Leone</td>\n",
       "      <td>Africa</td>\n",
       "      <td>Africa</td>\n",
       "      <td>65</td>\n",
       "      <td>86</td>\n",
       "      <td>0</td>\n",
       "      <td>0</td>\n",
       "      <td>1</td>\n",
       "      <td>...</td>\n",
       "      <td>No</td>\n",
       "      <td>Win</td>\n",
       "      <td>NaN</td>\n",
       "      <td>NaN</td>\n",
       "      <td>NaN</td>\n",
       "      <td>NaN</td>\n",
       "      <td>NaN</td>\n",
       "      <td>NaN</td>\n",
       "      <td>NaN</td>\n",
       "      <td>NaN</td>\n",
       "    </tr>\n",
       "    <tr>\n",
       "      <th>4</th>\n",
       "      <td>1993-08-08</td>\n",
       "      <td>Paraguay</td>\n",
       "      <td>Argentina</td>\n",
       "      <td>South America</td>\n",
       "      <td>South America</td>\n",
       "      <td>67</td>\n",
       "      <td>5</td>\n",
       "      <td>0</td>\n",
       "      <td>0</td>\n",
       "      <td>1</td>\n",
       "      <td>...</td>\n",
       "      <td>No</td>\n",
       "      <td>Lose</td>\n",
       "      <td>NaN</td>\n",
       "      <td>NaN</td>\n",
       "      <td>NaN</td>\n",
       "      <td>NaN</td>\n",
       "      <td>NaN</td>\n",
       "      <td>NaN</td>\n",
       "      <td>NaN</td>\n",
       "      <td>NaN</td>\n",
       "    </tr>\n",
       "  </tbody>\n",
       "</table>\n",
       "<p>5 rows × 25 columns</p>\n",
       "</div>"
      ],
      "text/plain": [
       "         date home_team     away_team home_team_continent away_team_continent  \\\n",
       "0  1993-08-08   Bolivia       Uruguay       South America       South America   \n",
       "1  1993-08-08    Brazil        Mexico       South America       North America   \n",
       "2  1993-08-08   Ecuador     Venezuela       South America       South America   \n",
       "3  1993-08-08    Guinea  Sierra Leone              Africa              Africa   \n",
       "4  1993-08-08  Paraguay     Argentina       South America       South America   \n",
       "\n",
       "   home_team_fifa_rank  away_team_fifa_rank  home_team_total_fifa_points  \\\n",
       "0                   59                   22                            0   \n",
       "1                    8                   14                            0   \n",
       "2                   35                   94                            0   \n",
       "3                   65                   86                            0   \n",
       "4                   67                    5                            0   \n",
       "\n",
       "   away_team_total_fifa_points  home_team_score  ...  shoot_out  \\\n",
       "0                            0                3  ...         No   \n",
       "1                            0                1  ...         No   \n",
       "2                            0                5  ...         No   \n",
       "3                            0                1  ...         No   \n",
       "4                            0                1  ...         No   \n",
       "\n",
       "  home_team_result home_team_goalkeeper_score away_team_goalkeeper_score  \\\n",
       "0              Win                        NaN                        NaN   \n",
       "1             Draw                        NaN                        NaN   \n",
       "2              Win                        NaN                        NaN   \n",
       "3              Win                        NaN                        NaN   \n",
       "4             Lose                        NaN                        NaN   \n",
       "\n",
       "   home_team_mean_defense_score home_team_mean_offense_score  \\\n",
       "0                           NaN                          NaN   \n",
       "1                           NaN                          NaN   \n",
       "2                           NaN                          NaN   \n",
       "3                           NaN                          NaN   \n",
       "4                           NaN                          NaN   \n",
       "\n",
       "  home_team_mean_midfield_score  away_team_mean_defense_score  \\\n",
       "0                           NaN                           NaN   \n",
       "1                           NaN                           NaN   \n",
       "2                           NaN                           NaN   \n",
       "3                           NaN                           NaN   \n",
       "4                           NaN                           NaN   \n",
       "\n",
       "   away_team_mean_offense_score  away_team_mean_midfield_score  \n",
       "0                           NaN                            NaN  \n",
       "1                           NaN                            NaN  \n",
       "2                           NaN                            NaN  \n",
       "3                           NaN                            NaN  \n",
       "4                           NaN                            NaN  \n",
       "\n",
       "[5 rows x 25 columns]"
      ]
     },
     "execution_count": 15,
     "metadata": {},
     "output_type": "execute_result"
    }
   ],
   "source": [
    "df.head()"
   ]
  },
  {
   "cell_type": "code",
   "execution_count": 16,
   "id": "3ce0da53",
   "metadata": {},
   "outputs": [
    {
     "data": {
      "text/plain": [
       "date                                 0\n",
       "home_team                            0\n",
       "away_team                            0\n",
       "home_team_continent                  0\n",
       "away_team_continent                  0\n",
       "home_team_fifa_rank                  0\n",
       "away_team_fifa_rank                  0\n",
       "home_team_total_fifa_points          0\n",
       "away_team_total_fifa_points          0\n",
       "home_team_score                      0\n",
       "away_team_score                      0\n",
       "tournament                           0\n",
       "city                                 0\n",
       "country                              0\n",
       "neutral_location                     0\n",
       "shoot_out                            0\n",
       "home_team_result                     0\n",
       "home_team_goalkeeper_score       15542\n",
       "away_team_goalkeeper_score       15826\n",
       "home_team_mean_defense_score     16134\n",
       "home_team_mean_offense_score     15411\n",
       "home_team_mean_midfield_score    15759\n",
       "away_team_mean_defense_score     16357\n",
       "away_team_mean_offense_score     15609\n",
       "away_team_mean_midfield_score    15942\n",
       "dtype: int64"
      ]
     },
     "execution_count": 16,
     "metadata": {},
     "output_type": "execute_result"
    }
   ],
   "source": [
    "df.isnull().sum()"
   ]
  },
  {
   "cell_type": "code",
   "execution_count": 17,
   "id": "55d08b70",
   "metadata": {},
   "outputs": [
    {
     "name": "stdout",
     "output_type": "stream",
     "text": [
      "<class 'pandas.core.frame.DataFrame'>\n",
      "RangeIndex: 23921 entries, 0 to 23920\n",
      "Data columns (total 25 columns):\n",
      " #   Column                         Non-Null Count  Dtype  \n",
      "---  ------                         --------------  -----  \n",
      " 0   date                           23921 non-null  object \n",
      " 1   home_team                      23921 non-null  object \n",
      " 2   away_team                      23921 non-null  object \n",
      " 3   home_team_continent            23921 non-null  object \n",
      " 4   away_team_continent            23921 non-null  object \n",
      " 5   home_team_fifa_rank            23921 non-null  int64  \n",
      " 6   away_team_fifa_rank            23921 non-null  int64  \n",
      " 7   home_team_total_fifa_points    23921 non-null  int64  \n",
      " 8   away_team_total_fifa_points    23921 non-null  int64  \n",
      " 9   home_team_score                23921 non-null  int64  \n",
      " 10  away_team_score                23921 non-null  int64  \n",
      " 11  tournament                     23921 non-null  object \n",
      " 12  city                           23921 non-null  object \n",
      " 13  country                        23921 non-null  object \n",
      " 14  neutral_location               23921 non-null  bool   \n",
      " 15  shoot_out                      23921 non-null  object \n",
      " 16  home_team_result               23921 non-null  object \n",
      " 17  home_team_goalkeeper_score     8379 non-null   float64\n",
      " 18  away_team_goalkeeper_score     8095 non-null   float64\n",
      " 19  home_team_mean_defense_score   7787 non-null   float64\n",
      " 20  home_team_mean_offense_score   8510 non-null   float64\n",
      " 21  home_team_mean_midfield_score  8162 non-null   float64\n",
      " 22  away_team_mean_defense_score   7564 non-null   float64\n",
      " 23  away_team_mean_offense_score   8312 non-null   float64\n",
      " 24  away_team_mean_midfield_score  7979 non-null   float64\n",
      "dtypes: bool(1), float64(8), int64(6), object(10)\n",
      "memory usage: 4.4+ MB\n"
     ]
    }
   ],
   "source": [
    "df.info()"
   ]
  },
  {
   "cell_type": "code",
   "execution_count": 18,
   "id": "ee40d1a6",
   "metadata": {},
   "outputs": [
    {
     "data": {
      "text/html": [
       "<div>\n",
       "<style scoped>\n",
       "    .dataframe tbody tr th:only-of-type {\n",
       "        vertical-align: middle;\n",
       "    }\n",
       "\n",
       "    .dataframe tbody tr th {\n",
       "        vertical-align: top;\n",
       "    }\n",
       "\n",
       "    .dataframe thead th {\n",
       "        text-align: right;\n",
       "    }\n",
       "</style>\n",
       "<table border=\"1\" class=\"dataframe\">\n",
       "  <thead>\n",
       "    <tr style=\"text-align: right;\">\n",
       "      <th></th>\n",
       "      <th>home_team_fifa_rank</th>\n",
       "      <th>away_team_fifa_rank</th>\n",
       "      <th>home_team_total_fifa_points</th>\n",
       "      <th>away_team_total_fifa_points</th>\n",
       "      <th>home_team_score</th>\n",
       "      <th>away_team_score</th>\n",
       "      <th>home_team_goalkeeper_score</th>\n",
       "      <th>away_team_goalkeeper_score</th>\n",
       "      <th>home_team_mean_defense_score</th>\n",
       "      <th>home_team_mean_offense_score</th>\n",
       "      <th>home_team_mean_midfield_score</th>\n",
       "      <th>away_team_mean_defense_score</th>\n",
       "      <th>away_team_mean_offense_score</th>\n",
       "      <th>away_team_mean_midfield_score</th>\n",
       "    </tr>\n",
       "  </thead>\n",
       "  <tbody>\n",
       "    <tr>\n",
       "      <th>count</th>\n",
       "      <td>23921.000000</td>\n",
       "      <td>23921.000000</td>\n",
       "      <td>23921.000000</td>\n",
       "      <td>23921.000000</td>\n",
       "      <td>23921.000000</td>\n",
       "      <td>23921.000000</td>\n",
       "      <td>8379.000000</td>\n",
       "      <td>8095.000000</td>\n",
       "      <td>7787.000000</td>\n",
       "      <td>8510.000000</td>\n",
       "      <td>8162.000000</td>\n",
       "      <td>7564.000000</td>\n",
       "      <td>8312.000000</td>\n",
       "      <td>7979.000000</td>\n",
       "    </tr>\n",
       "    <tr>\n",
       "      <th>mean</th>\n",
       "      <td>77.854688</td>\n",
       "      <td>80.797375</td>\n",
       "      <td>323.401488</td>\n",
       "      <td>315.453576</td>\n",
       "      <td>1.609214</td>\n",
       "      <td>1.068266</td>\n",
       "      <td>74.963838</td>\n",
       "      <td>74.212477</td>\n",
       "      <td>74.903249</td>\n",
       "      <td>75.818743</td>\n",
       "      <td>75.889292</td>\n",
       "      <td>74.424379</td>\n",
       "      <td>75.420019</td>\n",
       "      <td>75.259143</td>\n",
       "    </tr>\n",
       "    <tr>\n",
       "      <th>std</th>\n",
       "      <td>52.355225</td>\n",
       "      <td>53.232902</td>\n",
       "      <td>500.825725</td>\n",
       "      <td>490.944273</td>\n",
       "      <td>1.630127</td>\n",
       "      <td>1.263944</td>\n",
       "      <td>8.212242</td>\n",
       "      <td>8.225919</td>\n",
       "      <td>6.003114</td>\n",
       "      <td>6.268416</td>\n",
       "      <td>6.053110</td>\n",
       "      <td>5.937425</td>\n",
       "      <td>6.201906</td>\n",
       "      <td>6.124573</td>\n",
       "    </tr>\n",
       "    <tr>\n",
       "      <th>min</th>\n",
       "      <td>1.000000</td>\n",
       "      <td>1.000000</td>\n",
       "      <td>0.000000</td>\n",
       "      <td>0.000000</td>\n",
       "      <td>0.000000</td>\n",
       "      <td>0.000000</td>\n",
       "      <td>47.000000</td>\n",
       "      <td>47.000000</td>\n",
       "      <td>52.800000</td>\n",
       "      <td>53.300000</td>\n",
       "      <td>54.200000</td>\n",
       "      <td>52.800000</td>\n",
       "      <td>53.300000</td>\n",
       "      <td>54.200000</td>\n",
       "    </tr>\n",
       "    <tr>\n",
       "      <th>25%</th>\n",
       "      <td>33.000000</td>\n",
       "      <td>36.000000</td>\n",
       "      <td>0.000000</td>\n",
       "      <td>0.000000</td>\n",
       "      <td>0.000000</td>\n",
       "      <td>0.000000</td>\n",
       "      <td>70.000000</td>\n",
       "      <td>69.000000</td>\n",
       "      <td>71.000000</td>\n",
       "      <td>71.700000</td>\n",
       "      <td>72.500000</td>\n",
       "      <td>70.500000</td>\n",
       "      <td>71.300000</td>\n",
       "      <td>71.800000</td>\n",
       "    </tr>\n",
       "    <tr>\n",
       "      <th>50%</th>\n",
       "      <td>71.000000</td>\n",
       "      <td>73.000000</td>\n",
       "      <td>0.000000</td>\n",
       "      <td>0.000000</td>\n",
       "      <td>1.000000</td>\n",
       "      <td>1.000000</td>\n",
       "      <td>75.000000</td>\n",
       "      <td>74.000000</td>\n",
       "      <td>75.200000</td>\n",
       "      <td>75.700000</td>\n",
       "      <td>76.200000</td>\n",
       "      <td>74.500000</td>\n",
       "      <td>75.300000</td>\n",
       "      <td>75.500000</td>\n",
       "    </tr>\n",
       "    <tr>\n",
       "      <th>75%</th>\n",
       "      <td>115.000000</td>\n",
       "      <td>119.000000</td>\n",
       "      <td>547.000000</td>\n",
       "      <td>523.000000</td>\n",
       "      <td>2.000000</td>\n",
       "      <td>2.000000</td>\n",
       "      <td>81.000000</td>\n",
       "      <td>80.000000</td>\n",
       "      <td>78.800000</td>\n",
       "      <td>80.000000</td>\n",
       "      <td>79.500000</td>\n",
       "      <td>78.200000</td>\n",
       "      <td>79.700000</td>\n",
       "      <td>79.000000</td>\n",
       "    </tr>\n",
       "    <tr>\n",
       "      <th>max</th>\n",
       "      <td>211.000000</td>\n",
       "      <td>211.000000</td>\n",
       "      <td>2164.000000</td>\n",
       "      <td>2164.000000</td>\n",
       "      <td>31.000000</td>\n",
       "      <td>21.000000</td>\n",
       "      <td>97.000000</td>\n",
       "      <td>97.000000</td>\n",
       "      <td>91.800000</td>\n",
       "      <td>93.000000</td>\n",
       "      <td>93.200000</td>\n",
       "      <td>91.800000</td>\n",
       "      <td>93.000000</td>\n",
       "      <td>93.200000</td>\n",
       "    </tr>\n",
       "  </tbody>\n",
       "</table>\n",
       "</div>"
      ],
      "text/plain": [
       "       home_team_fifa_rank  away_team_fifa_rank  home_team_total_fifa_points  \\\n",
       "count         23921.000000         23921.000000                 23921.000000   \n",
       "mean             77.854688            80.797375                   323.401488   \n",
       "std              52.355225            53.232902                   500.825725   \n",
       "min               1.000000             1.000000                     0.000000   \n",
       "25%              33.000000            36.000000                     0.000000   \n",
       "50%              71.000000            73.000000                     0.000000   \n",
       "75%             115.000000           119.000000                   547.000000   \n",
       "max             211.000000           211.000000                  2164.000000   \n",
       "\n",
       "       away_team_total_fifa_points  home_team_score  away_team_score  \\\n",
       "count                 23921.000000     23921.000000     23921.000000   \n",
       "mean                    315.453576         1.609214         1.068266   \n",
       "std                     490.944273         1.630127         1.263944   \n",
       "min                       0.000000         0.000000         0.000000   \n",
       "25%                       0.000000         0.000000         0.000000   \n",
       "50%                       0.000000         1.000000         1.000000   \n",
       "75%                     523.000000         2.000000         2.000000   \n",
       "max                    2164.000000        31.000000        21.000000   \n",
       "\n",
       "       home_team_goalkeeper_score  away_team_goalkeeper_score  \\\n",
       "count                 8379.000000                 8095.000000   \n",
       "mean                    74.963838                   74.212477   \n",
       "std                      8.212242                    8.225919   \n",
       "min                     47.000000                   47.000000   \n",
       "25%                     70.000000                   69.000000   \n",
       "50%                     75.000000                   74.000000   \n",
       "75%                     81.000000                   80.000000   \n",
       "max                     97.000000                   97.000000   \n",
       "\n",
       "       home_team_mean_defense_score  home_team_mean_offense_score  \\\n",
       "count                   7787.000000                   8510.000000   \n",
       "mean                      74.903249                     75.818743   \n",
       "std                        6.003114                      6.268416   \n",
       "min                       52.800000                     53.300000   \n",
       "25%                       71.000000                     71.700000   \n",
       "50%                       75.200000                     75.700000   \n",
       "75%                       78.800000                     80.000000   \n",
       "max                       91.800000                     93.000000   \n",
       "\n",
       "       home_team_mean_midfield_score  away_team_mean_defense_score  \\\n",
       "count                    8162.000000                   7564.000000   \n",
       "mean                       75.889292                     74.424379   \n",
       "std                         6.053110                      5.937425   \n",
       "min                        54.200000                     52.800000   \n",
       "25%                        72.500000                     70.500000   \n",
       "50%                        76.200000                     74.500000   \n",
       "75%                        79.500000                     78.200000   \n",
       "max                        93.200000                     91.800000   \n",
       "\n",
       "       away_team_mean_offense_score  away_team_mean_midfield_score  \n",
       "count                   8312.000000                    7979.000000  \n",
       "mean                      75.420019                      75.259143  \n",
       "std                        6.201906                       6.124573  \n",
       "min                       53.300000                      54.200000  \n",
       "25%                       71.300000                      71.800000  \n",
       "50%                       75.300000                      75.500000  \n",
       "75%                       79.700000                      79.000000  \n",
       "max                       93.000000                      93.200000  "
      ]
     },
     "execution_count": 18,
     "metadata": {},
     "output_type": "execute_result"
    }
   ],
   "source": [
    "df.describe()"
   ]
  },
  {
   "cell_type": "markdown",
   "id": "2b444674",
   "metadata": {},
   "source": [
    "### Data Cleaning"
   ]
  },
  {
   "cell_type": "code",
   "execution_count": 19,
   "id": "f6143aed",
   "metadata": {},
   "outputs": [
    {
     "data": {
      "text/plain": [
       "Mexico                      316\n",
       "USA                         314\n",
       "Japan                       280\n",
       "Saudi Arabia                272\n",
       "Korea Republic              249\n",
       "                           ... \n",
       "Timor-Leste                  16\n",
       "Tonga                        15\n",
       "Anguilla                     13\n",
       "Cook Islands                 10\n",
       "Turks and Caicos Islands      8\n",
       "Name: home_team, Length: 211, dtype: int64"
      ]
     },
     "execution_count": 19,
     "metadata": {},
     "output_type": "execute_result"
    }
   ],
   "source": [
    "df['home_team'].value_counts()"
   ]
  },
  {
   "cell_type": "code",
   "execution_count": 20,
   "id": "c66dfae1",
   "metadata": {},
   "outputs": [],
   "source": [
    "df['date'] = pd.to_datetime(df['date'])"
   ]
  },
  {
   "cell_type": "code",
   "execution_count": 21,
   "id": "bdffadd4",
   "metadata": {},
   "outputs": [
    {
     "name": "stderr",
     "output_type": "stream",
     "text": [
      "/var/folders/nt/22h8c0cx5qvc176tly0bnp0h0000gn/T/ipykernel_93348/3936163039.py:6: FutureWarning: The frame.append method is deprecated and will be removed from pandas in a future version. Use pandas.concat instead.\n",
      "  fifa_rank = home.append(away)\n"
     ]
    },
    {
     "data": {
      "text/html": [
       "<div>\n",
       "<style scoped>\n",
       "    .dataframe tbody tr th:only-of-type {\n",
       "        vertical-align: middle;\n",
       "    }\n",
       "\n",
       "    .dataframe tbody tr th {\n",
       "        vertical-align: top;\n",
       "    }\n",
       "\n",
       "    .dataframe thead th {\n",
       "        text-align: right;\n",
       "    }\n",
       "</style>\n",
       "<table border=\"1\" class=\"dataframe\">\n",
       "  <thead>\n",
       "    <tr style=\"text-align: right;\">\n",
       "      <th></th>\n",
       "      <th>date</th>\n",
       "      <th>team</th>\n",
       "      <th>rank</th>\n",
       "      <th>rank_points</th>\n",
       "    </tr>\n",
       "  </thead>\n",
       "  <tbody>\n",
       "    <tr>\n",
       "      <th>23760</th>\n",
       "      <td>2022-06-06</td>\n",
       "      <td>Brazil</td>\n",
       "      <td>1</td>\n",
       "      <td>1832</td>\n",
       "    </tr>\n",
       "    <tr>\n",
       "      <th>23909</th>\n",
       "      <td>2022-06-14</td>\n",
       "      <td>Belgium</td>\n",
       "      <td>2</td>\n",
       "      <td>1827</td>\n",
       "    </tr>\n",
       "    <tr>\n",
       "      <th>23885</th>\n",
       "      <td>2022-06-13</td>\n",
       "      <td>France</td>\n",
       "      <td>3</td>\n",
       "      <td>1789</td>\n",
       "    </tr>\n",
       "    <tr>\n",
       "      <th>23741</th>\n",
       "      <td>2022-06-05</td>\n",
       "      <td>Argentina</td>\n",
       "      <td>4</td>\n",
       "      <td>1765</td>\n",
       "    </tr>\n",
       "    <tr>\n",
       "      <th>23906</th>\n",
       "      <td>2022-06-14</td>\n",
       "      <td>England</td>\n",
       "      <td>5</td>\n",
       "      <td>1761</td>\n",
       "    </tr>\n",
       "    <tr>\n",
       "      <th>23907</th>\n",
       "      <td>2022-06-14</td>\n",
       "      <td>Italy</td>\n",
       "      <td>6</td>\n",
       "      <td>1723</td>\n",
       "    </tr>\n",
       "    <tr>\n",
       "      <th>23866</th>\n",
       "      <td>2022-06-12</td>\n",
       "      <td>Spain</td>\n",
       "      <td>7</td>\n",
       "      <td>1709</td>\n",
       "    </tr>\n",
       "    <tr>\n",
       "      <th>23867</th>\n",
       "      <td>2022-06-12</td>\n",
       "      <td>Portugal</td>\n",
       "      <td>8</td>\n",
       "      <td>1674</td>\n",
       "    </tr>\n",
       "    <tr>\n",
       "      <th>23903</th>\n",
       "      <td>2022-06-14</td>\n",
       "      <td>Mexico</td>\n",
       "      <td>9</td>\n",
       "      <td>1658</td>\n",
       "    </tr>\n",
       "    <tr>\n",
       "      <th>23908</th>\n",
       "      <td>2022-06-14</td>\n",
       "      <td>Netherlands</td>\n",
       "      <td>10</td>\n",
       "      <td>1658</td>\n",
       "    </tr>\n",
       "  </tbody>\n",
       "</table>\n",
       "</div>"
      ],
      "text/plain": [
       "            date         team  rank  rank_points\n",
       "23760 2022-06-06       Brazil     1         1832\n",
       "23909 2022-06-14      Belgium     2         1827\n",
       "23885 2022-06-13       France     3         1789\n",
       "23741 2022-06-05    Argentina     4         1765\n",
       "23906 2022-06-14      England     5         1761\n",
       "23907 2022-06-14        Italy     6         1723\n",
       "23866 2022-06-12        Spain     7         1709\n",
       "23867 2022-06-12     Portugal     8         1674\n",
       "23903 2022-06-14       Mexico     9         1658\n",
       "23908 2022-06-14  Netherlands    10         1658"
      ]
     },
     "execution_count": 21,
     "metadata": {},
     "output_type": "execute_result"
    }
   ],
   "source": [
    "#let's re-shape the data a bit\n",
    "fifa_rank = df[['date', 'home_team', 'away_team', 'home_team_fifa_rank', 'away_team_fifa_rank',\n",
    "'away_team_total_fifa_points','home_team_total_fifa_points']]\n",
    "home = fifa_rank[['date', 'home_team','home_team_fifa_rank','home_team_total_fifa_points']].rename(columns = {'home_team': 'team', 'home_team_fifa_rank' : 'rank','home_team_total_fifa_points' : 'rank_points' })\n",
    "away = fifa_rank[['date', 'away_team','away_team_fifa_rank','away_team_total_fifa_points']].rename(columns = {'away_team': 'team', 'away_team_fifa_rank' : 'rank','away_team_total_fifa_points' : 'rank_points' })\n",
    "fifa_rank = home.append(away)\n",
    "\n",
    "#select for each country the latest match\n",
    "fifa_rank  = fifa_rank.sort_values(['team', 'date'], ascending=[True, False])\n",
    "fifa_rank['row_number'] = fifa_rank.groupby('team').cumcount()+1\n",
    "fifa_rank_top = fifa_rank[fifa_rank['row_number']==1].drop('row_number',axis=1).nsmallest(10, 'rank')\n",
    "#fifa_points_top = fifa_rank[fifa_rank['row_number']==1].drop('row_number',axis=1).nlargest(10, 'rank_points') \n",
    "\n",
    "#let's see the 5 strongest teams\n",
    "fifa_rank_top"
   ]
  },
  {
   "cell_type": "code",
   "execution_count": 22,
   "id": "cf36f3b5",
   "metadata": {},
   "outputs": [
    {
     "name": "stderr",
     "output_type": "stream",
     "text": [
      "/var/folders/nt/22h8c0cx5qvc176tly0bnp0h0000gn/T/ipykernel_93348/2376855644.py:4: FutureWarning: The frame.append method is deprecated and will be removed from pandas in a future version. Use pandas.concat instead.\n",
      "  offense  = home.append(away)\n"
     ]
    },
    {
     "data": {
      "text/html": [
       "<div>\n",
       "<style scoped>\n",
       "    .dataframe tbody tr th:only-of-type {\n",
       "        vertical-align: middle;\n",
       "    }\n",
       "\n",
       "    .dataframe tbody tr th {\n",
       "        vertical-align: top;\n",
       "    }\n",
       "\n",
       "    .dataframe thead th {\n",
       "        text-align: right;\n",
       "    }\n",
       "</style>\n",
       "<table border=\"1\" class=\"dataframe\">\n",
       "  <thead>\n",
       "    <tr style=\"text-align: right;\">\n",
       "      <th></th>\n",
       "      <th>date</th>\n",
       "      <th>team</th>\n",
       "      <th>offense_score</th>\n",
       "    </tr>\n",
       "  </thead>\n",
       "  <tbody>\n",
       "    <tr>\n",
       "      <th>23741</th>\n",
       "      <td>2022-06-05</td>\n",
       "      <td>Argentina</td>\n",
       "      <td>89.0</td>\n",
       "    </tr>\n",
       "    <tr>\n",
       "      <th>23885</th>\n",
       "      <td>2022-06-13</td>\n",
       "      <td>France</td>\n",
       "      <td>88.3</td>\n",
       "    </tr>\n",
       "    <tr>\n",
       "      <th>23906</th>\n",
       "      <td>2022-06-14</td>\n",
       "      <td>England</td>\n",
       "      <td>88.0</td>\n",
       "    </tr>\n",
       "    <tr>\n",
       "      <th>23760</th>\n",
       "      <td>2022-06-06</td>\n",
       "      <td>Brazil</td>\n",
       "      <td>86.3</td>\n",
       "    </tr>\n",
       "    <tr>\n",
       "      <th>23867</th>\n",
       "      <td>2022-06-12</td>\n",
       "      <td>Portugal</td>\n",
       "      <td>86.0</td>\n",
       "    </tr>\n",
       "    <tr>\n",
       "      <th>23909</th>\n",
       "      <td>2022-06-14</td>\n",
       "      <td>Belgium</td>\n",
       "      <td>85.7</td>\n",
       "    </tr>\n",
       "    <tr>\n",
       "      <th>23907</th>\n",
       "      <td>2022-06-14</td>\n",
       "      <td>Italy</td>\n",
       "      <td>85.3</td>\n",
       "    </tr>\n",
       "    <tr>\n",
       "      <th>23866</th>\n",
       "      <td>2022-06-12</td>\n",
       "      <td>Spain</td>\n",
       "      <td>85.0</td>\n",
       "    </tr>\n",
       "    <tr>\n",
       "      <th>23909</th>\n",
       "      <td>2022-06-14</td>\n",
       "      <td>Poland</td>\n",
       "      <td>84.7</td>\n",
       "    </tr>\n",
       "    <tr>\n",
       "      <th>23862</th>\n",
       "      <td>2022-06-11</td>\n",
       "      <td>Uruguay</td>\n",
       "      <td>84.3</td>\n",
       "    </tr>\n",
       "  </tbody>\n",
       "</table>\n",
       "</div>"
      ],
      "text/plain": [
       "            date       team  offense_score\n",
       "23741 2022-06-05  Argentina           89.0\n",
       "23885 2022-06-13     France           88.3\n",
       "23906 2022-06-14    England           88.0\n",
       "23760 2022-06-06     Brazil           86.3\n",
       "23867 2022-06-12   Portugal           86.0\n",
       "23909 2022-06-14    Belgium           85.7\n",
       "23907 2022-06-14      Italy           85.3\n",
       "23866 2022-06-12      Spain           85.0\n",
       "23909 2022-06-14     Poland           84.7\n",
       "23862 2022-06-11    Uruguay           84.3"
      ]
     },
     "execution_count": 22,
     "metadata": {},
     "output_type": "execute_result"
    }
   ],
   "source": [
    "offense = df[['date', 'home_team', 'away_team', 'home_team_mean_offense_score', 'away_team_mean_offense_score']]\n",
    "home = offense [['date', 'home_team','home_team_mean_offense_score']].rename(columns = {'home_team': 'team', 'home_team_mean_offense_score' : 'offense_score'})\n",
    "away = offense [['date', 'away_team','away_team_mean_offense_score']].rename(columns = {'away_team': 'team', 'away_team_mean_offense_score' : 'offense_score'})\n",
    "offense  = home.append(away)\n",
    "# offense\n",
    "#last match that each country played\n",
    "offense   = offense .sort_values(['team', 'date'], ascending=[True, False])\n",
    "offense ['row_number'] = offense .groupby('team').cumcount()+1\n",
    "offense_top_data = offense [offense ['row_number']==1].drop('row_number',axis=1).nlargest(10, 'offense_score')\n",
    "offense_top_data"
   ]
  },
  {
   "cell_type": "code",
   "execution_count": 23,
   "id": "1e754fc3",
   "metadata": {},
   "outputs": [
    {
     "data": {
      "text/html": [
       "<div>\n",
       "<style scoped>\n",
       "    .dataframe tbody tr th:only-of-type {\n",
       "        vertical-align: middle;\n",
       "    }\n",
       "\n",
       "    .dataframe tbody tr th {\n",
       "        vertical-align: top;\n",
       "    }\n",
       "\n",
       "    .dataframe thead th {\n",
       "        text-align: right;\n",
       "    }\n",
       "</style>\n",
       "<table border=\"1\" class=\"dataframe\">\n",
       "  <thead>\n",
       "    <tr style=\"text-align: right;\">\n",
       "      <th></th>\n",
       "      <th>date</th>\n",
       "      <th>home_team</th>\n",
       "      <th>away_team</th>\n",
       "      <th>home_team_continent</th>\n",
       "      <th>away_team_continent</th>\n",
       "      <th>home_team_fifa_rank</th>\n",
       "      <th>away_team_fifa_rank</th>\n",
       "      <th>home_team_total_fifa_points</th>\n",
       "      <th>away_team_total_fifa_points</th>\n",
       "      <th>home_team_score</th>\n",
       "      <th>...</th>\n",
       "      <th>shoot_out</th>\n",
       "      <th>home_team_result</th>\n",
       "      <th>home_team_goalkeeper_score</th>\n",
       "      <th>away_team_goalkeeper_score</th>\n",
       "      <th>home_team_mean_defense_score</th>\n",
       "      <th>home_team_mean_offense_score</th>\n",
       "      <th>home_team_mean_midfield_score</th>\n",
       "      <th>away_team_mean_defense_score</th>\n",
       "      <th>away_team_mean_offense_score</th>\n",
       "      <th>away_team_mean_midfield_score</th>\n",
       "    </tr>\n",
       "  </thead>\n",
       "  <tbody>\n",
       "    <tr>\n",
       "      <th>0</th>\n",
       "      <td>1993-08-08</td>\n",
       "      <td>Bolivia</td>\n",
       "      <td>Uruguay</td>\n",
       "      <td>South America</td>\n",
       "      <td>South America</td>\n",
       "      <td>59</td>\n",
       "      <td>22</td>\n",
       "      <td>0</td>\n",
       "      <td>0</td>\n",
       "      <td>3</td>\n",
       "      <td>...</td>\n",
       "      <td>No</td>\n",
       "      <td>Win</td>\n",
       "      <td>NaN</td>\n",
       "      <td>NaN</td>\n",
       "      <td>NaN</td>\n",
       "      <td>NaN</td>\n",
       "      <td>NaN</td>\n",
       "      <td>NaN</td>\n",
       "      <td>NaN</td>\n",
       "      <td>NaN</td>\n",
       "    </tr>\n",
       "    <tr>\n",
       "      <th>1</th>\n",
       "      <td>1993-08-08</td>\n",
       "      <td>Brazil</td>\n",
       "      <td>Mexico</td>\n",
       "      <td>South America</td>\n",
       "      <td>North America</td>\n",
       "      <td>8</td>\n",
       "      <td>14</td>\n",
       "      <td>0</td>\n",
       "      <td>0</td>\n",
       "      <td>1</td>\n",
       "      <td>...</td>\n",
       "      <td>No</td>\n",
       "      <td>Draw</td>\n",
       "      <td>NaN</td>\n",
       "      <td>NaN</td>\n",
       "      <td>NaN</td>\n",
       "      <td>NaN</td>\n",
       "      <td>NaN</td>\n",
       "      <td>NaN</td>\n",
       "      <td>NaN</td>\n",
       "      <td>NaN</td>\n",
       "    </tr>\n",
       "    <tr>\n",
       "      <th>2</th>\n",
       "      <td>1993-08-08</td>\n",
       "      <td>Ecuador</td>\n",
       "      <td>Venezuela</td>\n",
       "      <td>South America</td>\n",
       "      <td>South America</td>\n",
       "      <td>35</td>\n",
       "      <td>94</td>\n",
       "      <td>0</td>\n",
       "      <td>0</td>\n",
       "      <td>5</td>\n",
       "      <td>...</td>\n",
       "      <td>No</td>\n",
       "      <td>Win</td>\n",
       "      <td>NaN</td>\n",
       "      <td>NaN</td>\n",
       "      <td>NaN</td>\n",
       "      <td>NaN</td>\n",
       "      <td>NaN</td>\n",
       "      <td>NaN</td>\n",
       "      <td>NaN</td>\n",
       "      <td>NaN</td>\n",
       "    </tr>\n",
       "    <tr>\n",
       "      <th>3</th>\n",
       "      <td>1993-08-08</td>\n",
       "      <td>Guinea</td>\n",
       "      <td>Sierra Leone</td>\n",
       "      <td>Africa</td>\n",
       "      <td>Africa</td>\n",
       "      <td>65</td>\n",
       "      <td>86</td>\n",
       "      <td>0</td>\n",
       "      <td>0</td>\n",
       "      <td>1</td>\n",
       "      <td>...</td>\n",
       "      <td>No</td>\n",
       "      <td>Win</td>\n",
       "      <td>NaN</td>\n",
       "      <td>NaN</td>\n",
       "      <td>NaN</td>\n",
       "      <td>NaN</td>\n",
       "      <td>NaN</td>\n",
       "      <td>NaN</td>\n",
       "      <td>NaN</td>\n",
       "      <td>NaN</td>\n",
       "    </tr>\n",
       "    <tr>\n",
       "      <th>4</th>\n",
       "      <td>1993-08-08</td>\n",
       "      <td>Paraguay</td>\n",
       "      <td>Argentina</td>\n",
       "      <td>South America</td>\n",
       "      <td>South America</td>\n",
       "      <td>67</td>\n",
       "      <td>5</td>\n",
       "      <td>0</td>\n",
       "      <td>0</td>\n",
       "      <td>1</td>\n",
       "      <td>...</td>\n",
       "      <td>No</td>\n",
       "      <td>Lose</td>\n",
       "      <td>NaN</td>\n",
       "      <td>NaN</td>\n",
       "      <td>NaN</td>\n",
       "      <td>NaN</td>\n",
       "      <td>NaN</td>\n",
       "      <td>NaN</td>\n",
       "      <td>NaN</td>\n",
       "      <td>NaN</td>\n",
       "    </tr>\n",
       "  </tbody>\n",
       "</table>\n",
       "<p>5 rows × 25 columns</p>\n",
       "</div>"
      ],
      "text/plain": [
       "        date home_team     away_team home_team_continent away_team_continent  \\\n",
       "0 1993-08-08   Bolivia       Uruguay       South America       South America   \n",
       "1 1993-08-08    Brazil        Mexico       South America       North America   \n",
       "2 1993-08-08   Ecuador     Venezuela       South America       South America   \n",
       "3 1993-08-08    Guinea  Sierra Leone              Africa              Africa   \n",
       "4 1993-08-08  Paraguay     Argentina       South America       South America   \n",
       "\n",
       "   home_team_fifa_rank  away_team_fifa_rank  home_team_total_fifa_points  \\\n",
       "0                   59                   22                            0   \n",
       "1                    8                   14                            0   \n",
       "2                   35                   94                            0   \n",
       "3                   65                   86                            0   \n",
       "4                   67                    5                            0   \n",
       "\n",
       "   away_team_total_fifa_points  home_team_score  ...  shoot_out  \\\n",
       "0                            0                3  ...         No   \n",
       "1                            0                1  ...         No   \n",
       "2                            0                5  ...         No   \n",
       "3                            0                1  ...         No   \n",
       "4                            0                1  ...         No   \n",
       "\n",
       "  home_team_result home_team_goalkeeper_score away_team_goalkeeper_score  \\\n",
       "0              Win                        NaN                        NaN   \n",
       "1             Draw                        NaN                        NaN   \n",
       "2              Win                        NaN                        NaN   \n",
       "3              Win                        NaN                        NaN   \n",
       "4             Lose                        NaN                        NaN   \n",
       "\n",
       "   home_team_mean_defense_score home_team_mean_offense_score  \\\n",
       "0                           NaN                          NaN   \n",
       "1                           NaN                          NaN   \n",
       "2                           NaN                          NaN   \n",
       "3                           NaN                          NaN   \n",
       "4                           NaN                          NaN   \n",
       "\n",
       "  home_team_mean_midfield_score  away_team_mean_defense_score  \\\n",
       "0                           NaN                           NaN   \n",
       "1                           NaN                           NaN   \n",
       "2                           NaN                           NaN   \n",
       "3                           NaN                           NaN   \n",
       "4                           NaN                           NaN   \n",
       "\n",
       "   away_team_mean_offense_score  away_team_mean_midfield_score  \n",
       "0                           NaN                            NaN  \n",
       "1                           NaN                            NaN  \n",
       "2                           NaN                            NaN  \n",
       "3                           NaN                            NaN  \n",
       "4                           NaN                            NaN  \n",
       "\n",
       "[5 rows x 25 columns]"
      ]
     },
     "execution_count": 23,
     "metadata": {},
     "output_type": "execute_result"
    }
   ],
   "source": [
    "df.head()"
   ]
  },
  {
   "cell_type": "markdown",
   "id": "f8f24346",
   "metadata": {},
   "source": [
    "### Exploratory Data Analysis"
   ]
  },
  {
   "cell_type": "code",
   "execution_count": 24,
   "id": "3c31dbd2",
   "metadata": {},
   "outputs": [
    {
     "data": {
      "text/plain": [
       "Text(0, 0.5, 'FIFA Points')"
      ]
     },
     "execution_count": 24,
     "metadata": {},
     "output_type": "execute_result"
    },
    {
     "data": {
      "image/png": "[encoded data removed]",
      "text/plain": [
       "<Figure size 432x288 with 1 Axes>"
      ]
     },
     "metadata": {
      "needs_background": "light"
     },
     "output_type": "display_data"
    }
   ],
   "source": [
    "sns.barplot(data=fifa_rank_top,x='team',y='rank_points',color='lightblue')\n",
    "plt.xticks(rotation=90);\n",
    "plt.title('Top Ranked Teams FIFA Points',fontsize=16)\n",
    "plt.xlabel('Teams',fontsize=14)\n",
    "plt.ylabel('FIFA Points',fontsize=14)"
   ]
  },
  {
   "cell_type": "markdown",
   "id": "e910e538",
   "metadata": {},
   "source": [
    "The bar graph plots the data of top 10 ranked team and their respective FIFA points. It can be inferred from the graph that Brazil has the highest number of FIFA points followed by Belgium, France and Argentina. Among the Top 10 teams Netherlands has the lowest points."
   ]
  },
  {
   "cell_type": "code",
   "execution_count": 25,
   "id": "853a3846",
   "metadata": {},
   "outputs": [
    {
     "data": {
      "text/html": [
       "<div>\n",
       "<style scoped>\n",
       "    .dataframe tbody tr th:only-of-type {\n",
       "        vertical-align: middle;\n",
       "    }\n",
       "\n",
       "    .dataframe tbody tr th {\n",
       "        vertical-align: top;\n",
       "    }\n",
       "\n",
       "    .dataframe thead th {\n",
       "        text-align: right;\n",
       "    }\n",
       "</style>\n",
       "<table border=\"1\" class=\"dataframe\">\n",
       "  <thead>\n",
       "    <tr style=\"text-align: right;\">\n",
       "      <th></th>\n",
       "      <th>date</th>\n",
       "      <th>home_team_fifa_rank</th>\n",
       "    </tr>\n",
       "  </thead>\n",
       "  <tbody>\n",
       "    <tr>\n",
       "      <th>1</th>\n",
       "      <td>1993-08-08</td>\n",
       "      <td>8</td>\n",
       "    </tr>\n",
       "    <tr>\n",
       "      <th>17</th>\n",
       "      <td>1993-08-22</td>\n",
       "      <td>8</td>\n",
       "    </tr>\n",
       "    <tr>\n",
       "      <th>23</th>\n",
       "      <td>1993-08-29</td>\n",
       "      <td>8</td>\n",
       "    </tr>\n",
       "    <tr>\n",
       "      <th>28</th>\n",
       "      <td>1993-09-05</td>\n",
       "      <td>8</td>\n",
       "    </tr>\n",
       "    <tr>\n",
       "      <th>49</th>\n",
       "      <td>1993-09-19</td>\n",
       "      <td>8</td>\n",
       "    </tr>\n",
       "    <tr>\n",
       "      <th>...</th>\n",
       "      <td>...</td>\n",
       "      <td>...</td>\n",
       "    </tr>\n",
       "    <tr>\n",
       "      <th>22999</th>\n",
       "      <td>2021-09-09</td>\n",
       "      <td>2</td>\n",
       "    </tr>\n",
       "    <tr>\n",
       "      <th>23159</th>\n",
       "      <td>2021-10-14</td>\n",
       "      <td>2</td>\n",
       "    </tr>\n",
       "    <tr>\n",
       "      <th>23199</th>\n",
       "      <td>2021-11-11</td>\n",
       "      <td>2</td>\n",
       "    </tr>\n",
       "    <tr>\n",
       "      <th>23456</th>\n",
       "      <td>2022-02-01</td>\n",
       "      <td>2</td>\n",
       "    </tr>\n",
       "    <tr>\n",
       "      <th>23497</th>\n",
       "      <td>2022-03-24</td>\n",
       "      <td>2</td>\n",
       "    </tr>\n",
       "  </tbody>\n",
       "</table>\n",
       "<p>233 rows × 2 columns</p>\n",
       "</div>"
      ],
      "text/plain": [
       "            date  home_team_fifa_rank\n",
       "1     1993-08-08                    8\n",
       "17    1993-08-22                    8\n",
       "23    1993-08-29                    8\n",
       "28    1993-09-05                    8\n",
       "49    1993-09-19                    8\n",
       "...          ...                  ...\n",
       "22999 2021-09-09                    2\n",
       "23159 2021-10-14                    2\n",
       "23199 2021-11-11                    2\n",
       "23456 2022-02-01                    2\n",
       "23497 2022-03-24                    2\n",
       "\n",
       "[233 rows x 2 columns]"
      ]
     },
     "execution_count": 25,
     "metadata": {},
     "output_type": "execute_result"
    }
   ],
   "source": [
    "brazil_df= df[df['home_team']=='Brazil'][['date','home_team_fifa_rank']]\n",
    "brazil_df"
   ]
  },
  {
   "cell_type": "code",
   "execution_count": 26,
   "id": "014785e1",
   "metadata": {},
   "outputs": [],
   "source": [
    "brazil_df['year']= df['date'].dt.year"
   ]
  },
  {
   "cell_type": "code",
   "execution_count": 27,
   "id": "c1caa98c",
   "metadata": {},
   "outputs": [
    {
     "data": {
      "text/html": [
       "<div>\n",
       "<style scoped>\n",
       "    .dataframe tbody tr th:only-of-type {\n",
       "        vertical-align: middle;\n",
       "    }\n",
       "\n",
       "    .dataframe tbody tr th {\n",
       "        vertical-align: top;\n",
       "    }\n",
       "\n",
       "    .dataframe thead th {\n",
       "        text-align: right;\n",
       "    }\n",
       "</style>\n",
       "<table border=\"1\" class=\"dataframe\">\n",
       "  <thead>\n",
       "    <tr style=\"text-align: right;\">\n",
       "      <th></th>\n",
       "      <th>date</th>\n",
       "      <th>home_team_fifa_rank</th>\n",
       "      <th>year</th>\n",
       "    </tr>\n",
       "  </thead>\n",
       "  <tbody>\n",
       "    <tr>\n",
       "      <th>1</th>\n",
       "      <td>1993-08-08</td>\n",
       "      <td>8</td>\n",
       "      <td>1993</td>\n",
       "    </tr>\n",
       "    <tr>\n",
       "      <th>17</th>\n",
       "      <td>1993-08-22</td>\n",
       "      <td>8</td>\n",
       "      <td>1993</td>\n",
       "    </tr>\n",
       "    <tr>\n",
       "      <th>23</th>\n",
       "      <td>1993-08-29</td>\n",
       "      <td>8</td>\n",
       "      <td>1993</td>\n",
       "    </tr>\n",
       "    <tr>\n",
       "      <th>28</th>\n",
       "      <td>1993-09-05</td>\n",
       "      <td>8</td>\n",
       "      <td>1993</td>\n",
       "    </tr>\n",
       "    <tr>\n",
       "      <th>49</th>\n",
       "      <td>1993-09-19</td>\n",
       "      <td>8</td>\n",
       "      <td>1993</td>\n",
       "    </tr>\n",
       "    <tr>\n",
       "      <th>...</th>\n",
       "      <td>...</td>\n",
       "      <td>...</td>\n",
       "      <td>...</td>\n",
       "    </tr>\n",
       "    <tr>\n",
       "      <th>22999</th>\n",
       "      <td>2021-09-09</td>\n",
       "      <td>2</td>\n",
       "      <td>2021</td>\n",
       "    </tr>\n",
       "    <tr>\n",
       "      <th>23159</th>\n",
       "      <td>2021-10-14</td>\n",
       "      <td>2</td>\n",
       "      <td>2021</td>\n",
       "    </tr>\n",
       "    <tr>\n",
       "      <th>23199</th>\n",
       "      <td>2021-11-11</td>\n",
       "      <td>2</td>\n",
       "      <td>2021</td>\n",
       "    </tr>\n",
       "    <tr>\n",
       "      <th>23456</th>\n",
       "      <td>2022-02-01</td>\n",
       "      <td>2</td>\n",
       "      <td>2022</td>\n",
       "    </tr>\n",
       "    <tr>\n",
       "      <th>23497</th>\n",
       "      <td>2022-03-24</td>\n",
       "      <td>2</td>\n",
       "      <td>2022</td>\n",
       "    </tr>\n",
       "  </tbody>\n",
       "</table>\n",
       "<p>233 rows × 3 columns</p>\n",
       "</div>"
      ],
      "text/plain": [
       "            date  home_team_fifa_rank  year\n",
       "1     1993-08-08                    8  1993\n",
       "17    1993-08-22                    8  1993\n",
       "23    1993-08-29                    8  1993\n",
       "28    1993-09-05                    8  1993\n",
       "49    1993-09-19                    8  1993\n",
       "...          ...                  ...   ...\n",
       "22999 2021-09-09                    2  2021\n",
       "23159 2021-10-14                    2  2021\n",
       "23199 2021-11-11                    2  2021\n",
       "23456 2022-02-01                    2  2022\n",
       "23497 2022-03-24                    2  2022\n",
       "\n",
       "[233 rows x 3 columns]"
      ]
     },
     "execution_count": 27,
     "metadata": {},
     "output_type": "execute_result"
    }
   ],
   "source": [
    "brazil_df"
   ]
  },
  {
   "cell_type": "code",
   "execution_count": 28,
   "id": "5dc60eb8",
   "metadata": {},
   "outputs": [],
   "source": [
    "brazil_df.drop_duplicates(subset=['home_team_fifa_rank','year'],inplace=True)"
   ]
  },
  {
   "cell_type": "code",
   "execution_count": 29,
   "id": "69b7a7be",
   "metadata": {},
   "outputs": [
    {
     "data": {
      "text/plain": [
       "Text(0, 0.5, 'Rank')"
      ]
     },
     "execution_count": 29,
     "metadata": {},
     "output_type": "execute_result"
    },
    {
     "data": {
      "image/png": "[encoded data removed]",
      "text/plain": [
       "<Figure size 504x360 with 1 Axes>"
      ]
     },
     "metadata": {
      "needs_background": "light"
     },
     "output_type": "display_data"
    }
   ],
   "source": [
    "plt.figure(figsize=(7,5))\n",
    "sns.lineplot(data=brazil_df, x='year',y='home_team_fifa_rank')\n",
    "plt.title('Brazil Rank Over the Years',fontsize=16)\n",
    "plt.xlabel('Year',fontsize=14)\n",
    "plt.ylabel('Rank',fontsize=14)"
   ]
  },
  {
   "cell_type": "markdown",
   "id": "dc789d8a",
   "metadata": {},
   "source": [
    "The line plot shows the rank of Brazil over the years. It can be observed that Brazil was ranked No.1 Team from 1995-2000 and was in top 5 teams till 2010. It can see a spike after 2010 the rank of Brazil has decreased and improved it's rank again after 2015."
   ]
  },
  {
   "cell_type": "code",
   "execution_count": 30,
   "id": "4d5c231a",
   "metadata": {},
   "outputs": [
    {
     "data": {
      "text/plain": [
       "Text(0, 0.5, 'FIFA Points')"
      ]
     },
     "execution_count": 30,
     "metadata": {},
     "output_type": "execute_result"
    },
    {
     "data": {
      "image/png": "[encoded data removed]",
      "text/plain": [
       "<Figure size 504x360 with 1 Axes>"
      ]
     },
     "metadata": {
      "needs_background": "light"
     },
     "output_type": "display_data"
    }
   ],
   "source": [
    "plt.figure(figsize=(7,5))\n",
    "sns.scatterplot(data=df[df['home_team_total_fifa_points']!=0],x='home_team_fifa_rank',y='home_team_total_fifa_points')\n",
    "plt.title('Rank Vs Points',fontsize=16)\n",
    "plt.xlabel('Rank',fontsize=14)\n",
    "plt.ylabel('FIFA Points',fontsize=14)"
   ]
  },
  {
   "cell_type": "markdown",
   "id": "1eebfcd6",
   "metadata": {},
   "source": [
    "The Scatterplot shows the relationship the teams rank and points. We can clearly observe that there is negative correlation between the two variables. For the teams that have lower rank has high points and as the rank is increasing the points of the team tend to be decreasing."
   ]
  },
  {
   "cell_type": "code",
   "execution_count": 31,
   "id": "02adec97",
   "metadata": {},
   "outputs": [
    {
     "data": {
      "text/plain": [
       "Text(0, 0.5, 'Count')"
      ]
     },
     "execution_count": 31,
     "metadata": {},
     "output_type": "execute_result"
    },
    {
     "data": {
      "image/png": "[encoded data removed]",
      "text/plain": [
       "<Figure size 432x288 with 1 Axes>"
      ]
     },
     "metadata": {
      "needs_background": "light"
     },
     "output_type": "display_data"
    }
   ],
   "source": [
    "sns.histplot(df[df['home_team_total_fifa_points']!=0]['home_team_total_fifa_points'])\n",
    "plt.title(\"Distribution of FIFA points\",fontsize=16)\n",
    "plt.xlabel(\"Home Team FIFA points\",fontsize=14)\n",
    "plt.ylabel(\"Count\",fontsize=14)"
   ]
  },
  {
   "cell_type": "markdown",
   "id": "4b90079d",
   "metadata": {},
   "source": [
    "The distribution of FIFA points has a bi-modal graph. The plot has two peak regions one is around 500 and the other is around 1500. There are few data points above 2000 which are present in the tail of the graph."
   ]
  },
  {
   "cell_type": "code",
   "execution_count": 32,
   "id": "f6333994",
   "metadata": {},
   "outputs": [
    {
     "name": "stderr",
     "output_type": "stream",
     "text": [
      "/Users/vineethreddy/opt/anaconda3/lib/python3.9/site-packages/seaborn/_decorators.py:36: FutureWarning: Pass the following variable as a keyword arg: x. From version 0.12, the only valid positional argument will be `data`, and passing other arguments without an explicit keyword will result in an error or misinterpretation.\n",
      "  warnings.warn(\n"
     ]
    },
    {
     "data": {
      "text/plain": [
       "Text(0.5, 0, '')"
      ]
     },
     "execution_count": 32,
     "metadata": {},
     "output_type": "execute_result"
    },
    {
     "data": {
      "image/png": "[encoded data removed]",
      "text/plain": [
       "<Figure size 432x288 with 1 Axes>"
      ]
     },
     "metadata": {
      "needs_background": "light"
     },
     "output_type": "display_data"
    }
   ],
   "source": [
    "sns.boxplot(df['home_team_mean_offense_score'])\n",
    "plt.title('Distribution of offense score',fontsize=16)\n",
    "plt.xlabel(None)"
   ]
  },
  {
   "cell_type": "markdown",
   "id": "d84a33fc",
   "metadata": {},
   "source": [
    "The Boxplot shows the distribution of the Team's Offense Score. From the graph, we can say that the most of offense score values are in the range of 70-80. There are few outliers in the data as well i.e the values below 60 and values above 95 are considered as outliers. The Mean value of offense score is around 75. "
   ]
  },
  {
   "cell_type": "code",
   "execution_count": 33,
   "id": "31d89292",
   "metadata": {},
   "outputs": [
    {
     "name": "stderr",
     "output_type": "stream",
     "text": [
      "/Users/vineethreddy/opt/anaconda3/lib/python3.9/site-packages/seaborn/_decorators.py:36: FutureWarning: Pass the following variable as a keyword arg: x. From version 0.12, the only valid positional argument will be `data`, and passing other arguments without an explicit keyword will result in an error or misinterpretation.\n",
      "  warnings.warn(\n"
     ]
    },
    {
     "data": {
      "text/plain": [
       "Text(0.5, 0, '')"
      ]
     },
     "execution_count": 33,
     "metadata": {},
     "output_type": "execute_result"
    },
    {
     "data": {
      "image/png": "[encoded data removed]",
      "text/plain": [
       "<Figure size 432x288 with 1 Axes>"
      ]
     },
     "metadata": {
      "needs_background": "light"
     },
     "output_type": "display_data"
    }
   ],
   "source": [
    "sns.violinplot(df['home_team_mean_defense_score'])\n",
    "plt.title('Distribution of Defense score',fontsize=16)\n",
    "plt.xlabel(None)"
   ]
  },
  {
   "cell_type": "markdown",
   "id": "4d97a0a3",
   "metadata": {},
   "source": [
    "The defense score distribution is almost a normal distribution. The mean value is around 75 and the other points are ditributed almost symmetrically on eithe side of the mean."
   ]
  },
  {
   "cell_type": "code",
   "execution_count": 34,
   "id": "d699be82",
   "metadata": {},
   "outputs": [
    {
     "data": {
      "text/plain": [
       "Text(0.5, 1.05, 'Heatmap')"
      ]
     },
     "execution_count": 34,
     "metadata": {},
     "output_type": "execute_result"
    },
    {
     "data": {
      "image/png": "[encoded data removed]",
      "text/plain": [
       "<Figure size 432x288 with 2 Axes>"
      ]
     },
     "metadata": {
      "needs_background": "light"
     },
     "output_type": "display_data"
    }
   ],
   "source": [
    "sns.heatmap(df.corr())\n",
    "plt.title('Heatmap',fontsize=16,y=1.05)"
   ]
  },
  {
   "cell_type": "markdown",
   "id": "68c93949",
   "metadata": {},
   "source": [
    "\n",
    "The Heatmap here shows the correlation between various variables. We could observe that there is a high correlation between variables such as team defense score and team midfield score, team goalkeeper score and midfield score etc."
   ]
  },
  {
   "cell_type": "code",
   "execution_count": 35,
   "id": "99807cce",
   "metadata": {},
   "outputs": [
    {
     "data": {
      "text/plain": [
       "<seaborn.axisgrid.JointGrid at 0x7f792a116ac0>"
      ]
     },
     "execution_count": 35,
     "metadata": {},
     "output_type": "execute_result"
    },
    {
     "data": {
      "text/plain": [
       "<Figure size 504x360 with 0 Axes>"
      ]
     },
     "metadata": {},
     "output_type": "display_data"
    },
    {
     "data": {
      "image/png": "[encoded data removed]",
      "text/plain": [
       "<Figure size 432x432 with 3 Axes>"
      ]
     },
     "metadata": {
      "needs_background": "light"
     },
     "output_type": "display_data"
    }
   ],
   "source": [
    "plt.figure(figsize=(7,5))\n",
    "p=sns.jointplot(x=df['home_team_mean_defense_score'],y=df['home_team_mean_offense_score']);\n",
    "\n",
    "p.fig.suptitle(\"Relation Between Offense Score and Defense Score\",y=1.05,fontsize=16)\n",
    "p.set_axis_labels('Defense Score', 'Offense Score', fontsize=14)"
   ]
  },
  {
   "cell_type": "markdown",
   "id": "a683ff31",
   "metadata": {},
   "source": [
    "The JointPlot shows the relation the Offense Score and Defense Score and also plots individual histograms of each variable.  There is a positive correlation between the two variables. The teams with high defense score has high offense score as well and similarly teams with low defense score has low offense score. The distribution of the variables is almost a normal distribution."
   ]
  },
  {
   "cell_type": "code",
   "execution_count": 36,
   "id": "2cd68474",
   "metadata": {},
   "outputs": [],
   "source": [
    "result=df['home_team_result'].value_counts()"
   ]
  },
  {
   "cell_type": "code",
   "execution_count": 37,
   "id": "f24bf2d6",
   "metadata": {},
   "outputs": [
    {
     "data": {
      "text/plain": [
       "Text(0.5, 1.0, 'Record of Home Teams')"
      ]
     },
     "execution_count": 37,
     "metadata": {},
     "output_type": "execute_result"
    },
    {
     "data": {
      "image/png": "[encoded data removed]",
      "text/plain": [
       "<Figure size 432x432 with 1 Axes>"
      ]
     },
     "metadata": {},
     "output_type": "display_data"
    }
   ],
   "source": [
    "fig1, ax1 = plt.subplots(figsize=(6,6))\n",
    "ax1.pie(result.values, labels=result.index, autopct='%1.1f%%',\n",
    "        shadow=True, startangle=90,colors=['steelblue','cornflowerblue','lightsteelblue'],explode=(0.05,0,0))\n",
    "ax1.axis('equal');\n",
    "plt.title(\"Record of Home Teams\",fontsize=16)"
   ]
  },
  {
   "cell_type": "markdown",
   "id": "07d7a55f",
   "metadata": {},
   "source": [
    "The Pie Chart shows the record the Home Team performance. Based on the chart, we can see that 49.2% of matches played at home venue Won by the home team whereas 22.5% resulted in  Draw and 28.3% matches were on losing side. It is evident that there is an advantage for the teams playing at home and they have an high chance of winning the match."
   ]
  },
  {
   "cell_type": "code",
   "execution_count": 38,
   "id": "e09054f3",
   "metadata": {},
   "outputs": [],
   "source": [
    "df.drop(columns=['home_team_goalkeeper_score','away_team_goalkeeper_score','home_team_mean_defense_score','home_team_mean_offense_score','home_team_mean_midfield_score','away_team_mean_defense_score','away_team_mean_offense_score','away_team_mean_midfield_score'],inplace=True,axis=1)"
   ]
  },
  {
   "cell_type": "code",
   "execution_count": 39,
   "id": "4ceb2996",
   "metadata": {},
   "outputs": [],
   "source": [
    "df['date'] = pd.to_datetime(df['date'])"
   ]
  },
  {
   "cell_type": "code",
   "execution_count": 40,
   "id": "11549e5a",
   "metadata": {},
   "outputs": [
    {
     "name": "stdout",
     "output_type": "stream",
     "text": [
      "<class 'pandas.core.frame.DataFrame'>\n",
      "RangeIndex: 23921 entries, 0 to 23920\n",
      "Data columns (total 17 columns):\n",
      " #   Column                       Non-Null Count  Dtype         \n",
      "---  ------                       --------------  -----         \n",
      " 0   date                         23921 non-null  datetime64[ns]\n",
      " 1   home_team                    23921 non-null  object        \n",
      " 2   away_team                    23921 non-null  object        \n",
      " 3   home_team_continent          23921 non-null  object        \n",
      " 4   away_team_continent          23921 non-null  object        \n",
      " 5   home_team_fifa_rank          23921 non-null  int64         \n",
      " 6   away_team_fifa_rank          23921 non-null  int64         \n",
      " 7   home_team_total_fifa_points  23921 non-null  int64         \n",
      " 8   away_team_total_fifa_points  23921 non-null  int64         \n",
      " 9   home_team_score              23921 non-null  int64         \n",
      " 10  away_team_score              23921 non-null  int64         \n",
      " 11  tournament                   23921 non-null  object        \n",
      " 12  city                         23921 non-null  object        \n",
      " 13  country                      23921 non-null  object        \n",
      " 14  neutral_location             23921 non-null  bool          \n",
      " 15  shoot_out                    23921 non-null  object        \n",
      " 16  home_team_result             23921 non-null  object        \n",
      "dtypes: bool(1), datetime64[ns](1), int64(6), object(9)\n",
      "memory usage: 2.9+ MB\n"
     ]
    }
   ],
   "source": [
    "df.info()"
   ]
  },
  {
   "cell_type": "code",
   "execution_count": null,
   "id": "73275f19",
   "metadata": {},
   "outputs": [],
   "source": []
  },
  {
   "cell_type": "code",
   "execution_count": null,
   "id": "6516c026",
   "metadata": {},
   "outputs": [],
   "source": []
  },
  {
   "cell_type": "code",
   "execution_count": null,
   "id": "95ecdf1d",
   "metadata": {},
   "outputs": [],
   "source": []
  }
 ],
 "metadata": {
  "kernelspec": {
   "display_name": "Python 3 (ipykernel)",
   "language": "python",
   "name": "python3"
  },
  "language_info": {
   "codemirror_mode": {
    "name": "ipython",
    "version": 3
   },
   "file_extension": ".py",
   "mimetype": "text/x-python",
   "name": "python",
   "nbconvert_exporter": "python",
   "pygments_lexer": "ipython3",
   "version": "3.9.12"
  }
 },
 "nbformat": 4,
 "nbformat_minor": 5
}
